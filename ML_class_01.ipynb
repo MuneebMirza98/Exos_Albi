{
 "cells": [
  {
   "cell_type": "markdown",
   "id": "ac50c875",
   "metadata": {},
   "source": [
    "# Installations des modules"
   ]
  },
  {
   "cell_type": "code",
   "execution_count": null,
   "id": "ba886397",
   "metadata": {
    "scrolled": true
   },
   "outputs": [],
   "source": [
    "!pip install pandas\n",
    "!pip install seaborn\n",
    "!pip install -U scikit-learn"
   ]
  },
  {
   "cell_type": "markdown",
   "id": "f392071a",
   "metadata": {},
   "source": [
    "# Imports des modules"
   ]
  },
  {
   "cell_type": "code",
   "execution_count": null,
   "id": "50093425",
   "metadata": {},
   "outputs": [],
   "source": [
    "import matplotlib.pyplot as plt\n",
    "import pandas as pd\n",
    "import numpy as np\n",
    "import seaborn as sns\n",
    "\n",
    "from sklearn.preprocessing import StandardScaler\n",
    "from sklearn.model_selection import train_test_split\n",
    "from sklearn.linear_model import LinearRegression\n",
    "from sklearn.linear_model import Lasso\n",
    "from sklearn.linear_model import Ridge\n",
    "from sklearn.tree import DecisionTreeRegressor\n",
    "from sklearn.metrics import mean_squared_error\n",
    "from sklearn.ensemble import AdaBoostRegressor"
   ]
  },
  {
   "cell_type": "markdown",
   "id": "4a4383a5",
   "metadata": {},
   "source": [
    "# Définition du dataframe et étude du dataset"
   ]
  },
  {
   "cell_type": "code",
   "execution_count": null,
   "id": "73b54b74",
   "metadata": {},
   "outputs": [],
   "source": [
    "df = pd.read_csv(\"housing2.csv\")"
   ]
  },
  {
   "cell_type": "code",
   "execution_count": null,
   "id": "f3190fc9",
   "metadata": {},
   "outputs": [],
   "source": [
    "df.head()\n",
    "df.info()\n",
    "df.drop(df[df.total_bedrooms.isnull()].index, inplace=True)\n",
    "df.isnull().sum()"
   ]
  },
  {
   "cell_type": "code",
   "execution_count": null,
   "id": "e955657e",
   "metadata": {
    "scrolled": true
   },
   "outputs": [],
   "source": [
    "corr_matrix = df.corr()\n",
    "sns.heatmap(data=corr_matrix, center=0, annot=True)"
   ]
  },
  {
   "cell_type": "markdown",
   "id": "d8a598a1",
   "metadata": {},
   "source": [
    "# Définition des features et du label"
   ]
  },
  {
   "cell_type": "code",
   "execution_count": null,
   "id": "a8aa325d",
   "metadata": {},
   "outputs": [],
   "source": [
    "df[\"mean\"] = df[\"total_rooms\"]/df[\"population\"]\n",
    "\n",
    "X = df[[\"latitude\", \"longitude\", \"median_income\", \"mean\"]]\n",
    "Y = df[[\"median_house_value\"]]\n",
    "X.head()"
   ]
  },
  {
   "cell_type": "code",
   "execution_count": null,
   "id": "9d7f2bfa",
   "metadata": {},
   "outputs": [],
   "source": [
    "scaler = StandardScaler()\n",
    "scaler.fit(X)\n",
    "X_norm = scaler.transform(X)\n",
    "scaler.fit(Y)\n",
    "Y_norm = scaler.transform(Y)"
   ]
  },
  {
   "cell_type": "code",
   "execution_count": null,
   "id": "c207f4a6",
   "metadata": {},
   "outputs": [],
   "source": [
    "X_train, X_test, Y_train, Y_test = train_test_split(X_norm, Y_norm, test_size=0.2, random_state=42)"
   ]
  },
  {
   "cell_type": "markdown",
   "id": "e25edabc",
   "metadata": {},
   "source": [
    "# Importation des modèles"
   ]
  },
  {
   "cell_type": "code",
   "execution_count": null,
   "id": "b83b0367",
   "metadata": {},
   "outputs": [],
   "source": [
    "lin_reg = LinearRegression()\n",
    "lasso = Lasso()\n",
    "ridge = Ridge()\n",
    "tree = DecisionTreeRegressor()\n",
    "adareg = AdaBoostRegressor(random_state=42,\n",
    "                           n_estimators=300)"
   ]
  },
  {
   "cell_type": "markdown",
   "id": "2d2b3b4a",
   "metadata": {},
   "source": [
    "# Entraînement"
   ]
  },
  {
   "cell_type": "code",
   "execution_count": null,
   "id": "de1da808",
   "metadata": {},
   "outputs": [],
   "source": [
    "lin_reg.fit(X_train, Y_train)\n",
    "\n",
    "Prediction_train = lin_reg.predict(X_train)\n",
    "MSE_train = mean_squared_error(Y_train, Prediction_train)\n",
    "RMSE_train = np.sqrt(MSE_train)\n",
    "\n",
    "Prediction_test = lin_reg.predict(X_test)\n",
    "MSE_test = mean_squared_error(Y_test, Prediction_test)\n",
    "RMSE_test = np.sqrt(MSE_test)\n",
    "\n",
    "MSE_train\n",
    "MSE_test"
   ]
  },
  {
   "cell_type": "code",
   "execution_count": null,
   "id": "276b2a67",
   "metadata": {},
   "outputs": [],
   "source": [
    "lasso.fit(X_train, Y_train)\n",
    "\n",
    "Prediction_train = lasso.predict(X_train)\n",
    "MSE_train = mean_squared_error(Y_train, Prediction_train)\n",
    "RMSE_train = np.sqrt(MSE_train)\n",
    "\n",
    "Prediction_test = lasso.predict(X_test)\n",
    "MSE_test = mean_squared_error(Y_test, Prediction_test)\n",
    "RMSE_test = np.sqrt(MSE_test)\n",
    "\n",
    "MSE_train\n",
    "MSE_test"
   ]
  },
  {
   "cell_type": "code",
   "execution_count": null,
   "id": "94a6766f",
   "metadata": {},
   "outputs": [],
   "source": [
    "ridge.fit(X_train,Y_train)\n",
    "\n",
    "Prediction_train = ridge.predict(X_train)\n",
    "MSE_train = mean_squared_error(Y_train, Prediction_train)\n",
    "RMSE_train = np.sqrt(MSE_train)\n",
    "\n",
    "Prediction_test = ridge.predict(X_test)\n",
    "MSE_test = mean_squared_error(Y_test, Prediction_test)\n",
    "RMSE_test = np.sqrt(MSE_test)\n",
    "\n",
    "MSE_train\n",
    "MSE_test"
   ]
  },
  {
   "cell_type": "code",
   "execution_count": null,
   "id": "75568610",
   "metadata": {},
   "outputs": [],
   "source": [
    "tree.fit(X_train,Y_train)\n",
    "\n",
    "Prediction_train = tree.predict(X_train)\n",
    "MSE_train = mean_squared_error(Y_train, Prediction_train)\n",
    "RMSE_train = np.sqrt(MSE_train)\n",
    "\n",
    "Prediction_test = tree.predict(X_test)\n",
    "MSE_test = mean_squared_error(Y_test, Prediction_test)\n",
    "RMSE_test = np.sqrt(MSE_test)\n",
    "\n",
    "MSE_train\n",
    "MSE_test"
   ]
  },
  {
   "cell_type": "code",
   "execution_count": null,
   "id": "5ca28fd5",
   "metadata": {},
   "outputs": [],
   "source": [
    "adareg.fit(X_train,Y_train)\n",
    "\n",
    "Prediction_train = adareg.predict(X_train)\n",
    "MSE_train = mean_squared_error(Y_train, Prediction_train)\n",
    "RMSE_train = np.sqrt(MSE_train)\n",
    "\n",
    "Prediction_test = adareg.predict(X_test)\n",
    "MSE_test = mean_squared_error(Y_test, Prediction_test)\n",
    "RMSE_test = np.sqrt(MSE_test)\n",
    "\n",
    "MSE_train\n",
    "MSE_test"
   ]
  }
 ],
 "metadata": {
  "kernelspec": {
   "display_name": "Python 3 (ipykernel)",
   "language": "python",
   "name": "python3"
  },
  "language_info": {
   "codemirror_mode": {
    "name": "ipython",
    "version": 3
   },
   "file_extension": ".py",
   "mimetype": "text/x-python",
   "name": "python",
   "nbconvert_exporter": "python",
   "pygments_lexer": "ipython3",
   "version": "3.10.6"
  }
 },
 "nbformat": 4,
 "nbformat_minor": 5
}
